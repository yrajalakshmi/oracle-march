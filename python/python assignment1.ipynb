{
 "cells": [
  {
   "cell_type": "code",
   "execution_count": 4,
   "id": "5978c604-7870-4773-ae5d-79253ede1c5e",
   "metadata": {},
   "outputs": [],
   "source": [
    "retail_inventory = {\n",
    "    \"Electronics\": {\n",
    "        \"Laptop\": [55000, 30, \"Dell\"],\n",
    "        \"Mobile\": [25000, 50, \"Samsung\"],\n",
    "        \"Tablet\": [18000, 20, \"Lenovo\"],\n",
    "        \"Smart Watch\": [7999, 40, \"Noise\"]\n",
    "    },\n",
    "    \"Apparel\": {\n",
    "        \"T-Shirt\": [499, 100, \"H&M\"],\n",
    "        \"Jeans\": [1199, 60, \"Levi's\"],\n",
    "        \"Jacket\": [2499, 25, \"Puma\"]\n",
    "    },\n",
    "    \"Home Appliances\": {\n",
    "        \"Microwave\": [8500, 15, \"LG\"],\n",
    "        \"Vacuum Cleaner\": [7000, 10, \"Philips\"],\n",
    "        \"Refrigerator\": [30000, 8, \"Samsung\"]\n",
    "    }\n",
    "}\n",
    "     "
   ]
  },
  {
   "cell_type": "code",
   "execution_count": 5,
   "id": "3a560c7f-1314-4217-a7d7-6914f3966131",
   "metadata": {},
   "outputs": [
    {
     "data": {
      "text/plain": [
       "dict_keys(['Electronics', 'Apparel', 'Home Appliances'])"
      ]
     },
     "execution_count": 5,
     "metadata": {},
     "output_type": "execute_result"
    }
   ],
   "source": [
    "retail_inventory.keys()"
   ]
  },
  {
   "cell_type": "code",
   "execution_count": null,
   "id": "2077b182-2140-4dcd-bf17-f2500f4637be",
   "metadata": {},
   "outputs": [],
   "source": [
    "\n",
    "\n",
    "##How do you get all the values from a dictionary? (Use .values())"
   ]
  },
  {
   "cell_type": "code",
   "execution_count": 6,
   "id": "4c309ffe-6f77-4f4e-b26f-babdeabc170f",
   "metadata": {},
   "outputs": [
    {
     "data": {
      "text/plain": [
       "dict_values([{'Laptop': [55000, 30, 'Dell'], 'Mobile': [25000, 50, 'Samsung'], 'Tablet': [18000, 20, 'Lenovo'], 'Smart Watch': [7999, 40, 'Noise']}, {'T-Shirt': [499, 100, 'H&M'], 'Jeans': [1199, 60, \"Levi's\"], 'Jacket': [2499, 25, 'Puma']}, {'Microwave': [8500, 15, 'LG'], 'Vacuum Cleaner': [7000, 10, 'Philips'], 'Refrigerator': [30000, 8, 'Samsung']}])"
      ]
     },
     "execution_count": 6,
     "metadata": {},
     "output_type": "execute_result"
    }
   ],
   "source": [
    "retail_inventory.values()\n"
   ]
  },
  {
   "cell_type": "code",
   "execution_count": 7,
   "id": "82d8f933-7693-4bcb-8f73-b1e1b69d23ba",
   "metadata": {},
   "outputs": [],
   "source": [
    "##How do you retrieve the value for a specific key safely? (Use .get(key))"
   ]
  },
  {
   "cell_type": "code",
   "execution_count": 8,
   "id": "5757e039-b393-4937-88f8-c02a1d227dff",
   "metadata": {},
   "outputs": [
    {
     "data": {
      "text/plain": [
       "[25000, 50, 'Samsung']"
      ]
     },
     "execution_count": 8,
     "metadata": {},
     "output_type": "execute_result"
    }
   ],
   "source": [
    "(retail_inventory.get('Electronics'))['Mobile']"
   ]
  },
  {
   "cell_type": "code",
   "execution_count": null,
   "id": "895d5aa8-9e0d-4aaf-839a-e98a2a0a624b",
   "metadata": {},
   "outputs": [],
   "source": [
    "##How do you check if a key exists in a dictionary? (Use in)"
   ]
  },
  {
   "cell_type": "code",
   "execution_count": 9,
   "id": "1d0bcfa0-ca5c-40cd-b8a6-976407197e9c",
   "metadata": {},
   "outputs": [
    {
     "name": "stdout",
     "output_type": "stream",
     "text": [
      "Yes\n"
     ]
    }
   ],
   "source": [
    "if \"Apparel\" in retail_inventory:\n",
    "  print('Yes')\n",
    "\n"
   ]
  },
  {
   "cell_type": "code",
   "execution_count": null,
   "id": "70796a24-04f2-4719-bf13-3a1218e4e9d5",
   "metadata": {},
   "outputs": [],
   "source": [
    "##How do you remove a key and return its value? (Use .pop(key))"
   ]
  },
  {
   "cell_type": "code",
   "execution_count": 10,
   "id": "56b1fa20-db75-430f-95f4-b1ce9a7b0692",
   "metadata": {},
   "outputs": [
    {
     "data": {
      "text/plain": [
       "{'T-Shirt': [499, 100, 'H&M'],\n",
       " 'Jeans': [1199, 60, \"Levi's\"],\n",
       " 'Jacket': [2499, 25, 'Puma']}"
      ]
     },
     "execution_count": 10,
     "metadata": {},
     "output_type": "execute_result"
    }
   ],
   "source": [
    "(retail_inventory.pop(\"Apparel\"))\n"
   ]
  },
  {
   "cell_type": "code",
   "execution_count": 11,
   "id": "0e9e9b5b-5094-471d-a38c-1e9c65c67021",
   "metadata": {},
   "outputs": [
    {
     "data": {
      "text/plain": [
       "{'Electronics': {'Laptop': [55000, 30, 'Dell'],\n",
       "  'Mobile': [25000, 50, 'Samsung'],\n",
       "  'Tablet': [18000, 20, 'Lenovo'],\n",
       "  'Smart Watch': [7999, 40, 'Noise']},\n",
       " 'Home Appliances': {'Microwave': [8500, 15, 'LG'],\n",
       "  'Vacuum Cleaner': [7000, 10, 'Philips'],\n",
       "  'Refrigerator': [30000, 8, 'Samsung']}}"
      ]
     },
     "execution_count": 11,
     "metadata": {},
     "output_type": "execute_result"
    }
   ],
   "source": [
    "\n",
    "retail_inventory"
   ]
  },
  {
   "cell_type": "code",
   "execution_count": null,
   "id": "d3c5e55f-1139-4128-be1d-803651a6b90c",
   "metadata": {},
   "outputs": [],
   "source": [
    "##How do you retrieve both keys and values? (Use .items())"
   ]
  },
  {
   "cell_type": "code",
   "execution_count": 12,
   "id": "bc8ddcdd-2f90-4534-8caf-d5ec25763d7e",
   "metadata": {},
   "outputs": [
    {
     "data": {
      "text/plain": [
       "dict_items([('Electronics', {'Laptop': [55000, 30, 'Dell'], 'Mobile': [25000, 50, 'Samsung'], 'Tablet': [18000, 20, 'Lenovo'], 'Smart Watch': [7999, 40, 'Noise']}), ('Home Appliances', {'Microwave': [8500, 15, 'LG'], 'Vacuum Cleaner': [7000, 10, 'Philips'], 'Refrigerator': [30000, 8, 'Samsung']})])"
      ]
     },
     "execution_count": 12,
     "metadata": {},
     "output_type": "execute_result"
    }
   ],
   "source": [
    "retail_inventory.items()"
   ]
  },
  {
   "cell_type": "code",
   "execution_count": null,
   "id": "191d645d-226d-4299-9d1a-dfcf888fccc4",
   "metadata": {},
   "outputs": [],
   "source": [
    "##How do you add or update a value for a key? (Use .update({key: value}))"
   ]
  },
  {
   "cell_type": "code",
   "execution_count": 13,
   "id": "20ca8a88-2130-40a6-af8e-c06bb1337efc",
   "metadata": {},
   "outputs": [],
   "source": [
    "(retail_inventory.clear())"
   ]
  },
  {
   "cell_type": "code",
   "execution_count": 14,
   "id": "1fd6a6bd-6a9b-4040-9822-b914a45fbcda",
   "metadata": {},
   "outputs": [
    {
     "data": {
      "text/plain": [
       "{}"
      ]
     },
     "execution_count": 14,
     "metadata": {},
     "output_type": "execute_result"
    }
   ],
   "source": [
    "retail_inventory"
   ]
  },
  {
   "cell_type": "code",
   "execution_count": null,
   "id": "d76047b5-e547-4d9a-b9c8-4fa327bb601f",
   "metadata": {},
   "outputs": [],
   "source": [
    "##How do you create an empty dictionary? (Use {} or dict())\n"
   ]
  },
  {
   "cell_type": "code",
   "execution_count": 15,
   "id": "3c98e618-61d2-4dc1-b0e7-b9f5995ce581",
   "metadata": {},
   "outputs": [],
   "source": [
    "retail_inventory.clear()"
   ]
  },
  {
   "cell_type": "code",
   "execution_count": 16,
   "id": "58a58624-ea2c-4aed-be35-d38ff99c589f",
   "metadata": {},
   "outputs": [
    {
     "data": {
      "text/plain": [
       "{}"
      ]
     },
     "execution_count": 16,
     "metadata": {},
     "output_type": "execute_result"
    }
   ],
   "source": [
    "retail_inventory"
   ]
  },
  {
   "cell_type": "code",
   "execution_count": 24,
   "id": "6d54161f-191f-4a0b-aa76-3e453ef8c2dd",
   "metadata": {},
   "outputs": [],
   "source": [
    "retail_inventory = {\n",
    "    \"Electronics\": {\n",
    "        \"Laptop\": [55000, 30, \"Dell\"],\n",
    "        \"Mobile\": [25000, 50, \"Samsung\"],\n",
    "        \"Tablet\": [18000, 20, \"Lenovo\"],\n",
    "        \"Smart Watch\": [7999, 40, \"Noise\"]\n",
    "    },\n",
    "    \"Apparel\": {\n",
    "        \"T-Shirt\": [499, 100, \"H&M\"],\n",
    "        \"Jeans\": [1199, 60, \"Levi's\"],\n",
    "        \"Jacket\": [2499, 25, \"Puma\"]\n",
    "    },\n",
    "    \"Home Appliances\": {\n",
    "        \"Microwave\": [8500, 15, \"LG\"],\n",
    "        \"Vacuum Cleaner\": [7000, 10, \"Philips\"],\n",
    "        \"Refrigerator\": [30000, 8, \"Samsung\"]\n",
    "    }\n",
    "}\n"
   ]
  },
  {
   "cell_type": "code",
   "execution_count": 25,
   "id": "c05007f2-ab03-4c95-a4ee-422d75390918",
   "metadata": {},
   "outputs": [
    {
     "name": "stdout",
     "output_type": "stream",
     "text": [
      "{'Laptop': [55000, 30, 'Dell'], 'Mobile': [25000, 50, 'Samsung'], 'Tablet': [18000, 20, 'Lenovo'], 'Smart Watch': [7999, 40, 'Noise']}\n"
     ]
    }
   ],
   "source": [
    "##How do you copy a dictionary? (Use .copy())\n",
    "my_data=retail_inventory.copy()['Electronics']\n",
    "print(my_data)"
   ]
  },
  {
   "cell_type": "code",
   "execution_count": 26,
   "id": "4f2f3720-d448-4f44-85b0-45a957a38f59",
   "metadata": {},
   "outputs": [
    {
     "data": {
      "text/plain": [
       "{'Electronics': {'Laptop': [55000, 30, 'Dell'],\n",
       "  'Mobile': [25000, 50, 'Samsung'],\n",
       "  'Tablet': [18000, 20, 'Lenovo'],\n",
       "  'Smart Watch': [7999, 40, 'Noise']},\n",
       " 'Apparel': {'T-Shirt': [499, 100, 'H&M'],\n",
       "  'Jeans': [1199, 60, \"Levi's\"],\n",
       "  'Jacket': [2499, 25, 'Puma']},\n",
       " 'Home Appliances': {'Microwave': [8500, 15, 'LG'],\n",
       "  'Vacuum Cleaner': [7000, 10, 'Philips'],\n",
       "  'Refrigerator': [30000, 8, 'Samsung']}}"
      ]
     },
     "execution_count": 26,
     "metadata": {},
     "output_type": "execute_result"
    }
   ],
   "source": [
    "\n",
    "\n",
    "retail_inventory"
   ]
  },
  {
   "cell_type": "code",
   "execution_count": null,
   "id": "96209055-6f48-41ea-bc61-9f9644dfbec1",
   "metadata": {},
   "outputs": [],
   "source": [
    "##newdata=retail_inventory.setdefault('Electronics',\"Android \")\n"
   ]
  },
  {
   "cell_type": "code",
   "execution_count": 27,
   "id": "ec1ceca0-da07-44eb-a470-25d3a4e8602a",
   "metadata": {},
   "outputs": [],
   "source": [
    "newdata=retail_inventory.setdefault('Mobile',\"Android \")"
   ]
  },
  {
   "cell_type": "code",
   "execution_count": 28,
   "id": "8f25ff8b-57ec-47ec-853d-ecee9400cd1f",
   "metadata": {},
   "outputs": [
    {
     "data": {
      "text/plain": [
       "'Android '"
      ]
     },
     "execution_count": 28,
     "metadata": {},
     "output_type": "execute_result"
    }
   ],
   "source": [
    "newdata"
   ]
  },
  {
   "cell_type": "code",
   "execution_count": null,
   "id": "935c6d35-0573-4015-a2ca-b345d8e2e19e",
   "metadata": {},
   "outputs": [],
   "source": [
    "\n",
    "##Use .update() to merge two dictionaries."
   ]
  },
  {
   "cell_type": "code",
   "execution_count": 29,
   "id": "dd7c6dad-c8d3-47d7-adfb-5decc10aec33",
   "metadata": {},
   "outputs": [],
   "source": [
    "newdata1={'beauty products':'powder',\n",
    "          'healthcare':'cosmetics',\n",
    "          'sports':'cricket'}"
   ]
  },
  {
   "cell_type": "code",
   "execution_count": 30,
   "id": "d72e3df0-fe53-4edf-86be-71f02ca22b9c",
   "metadata": {},
   "outputs": [],
   "source": [
    "x=(retail_inventory.update(newdata1))"
   ]
  },
  {
   "cell_type": "code",
   "execution_count": 31,
   "id": "5dfd2219-d5b5-416d-9463-fee5783c0475",
   "metadata": {},
   "outputs": [
    {
     "data": {
      "text/plain": [
       "{'Electronics': {'Laptop': [55000, 30, 'Dell'],\n",
       "  'Mobile': [25000, 50, 'Samsung'],\n",
       "  'Tablet': [18000, 20, 'Lenovo'],\n",
       "  'Smart Watch': [7999, 40, 'Noise']},\n",
       " 'Apparel': {'T-Shirt': [499, 100, 'H&M'],\n",
       "  'Jeans': [1199, 60, \"Levi's\"],\n",
       "  'Jacket': [2499, 25, 'Puma']},\n",
       " 'Home Appliances': {'Microwave': [8500, 15, 'LG'],\n",
       "  'Vacuum Cleaner': [7000, 10, 'Philips'],\n",
       "  'Refrigerator': [30000, 8, 'Samsung']},\n",
       " 'Mobile': 'Android ',\n",
       " 'beauty products': 'powder',\n",
       " 'healthcare': 'cosmetics',\n",
       " 'sports': 'cricket'}"
      ]
     },
     "execution_count": 31,
     "metadata": {},
     "output_type": "execute_result"
    }
   ],
   "source": [
    "retail_inventory\n",
    "     "
   ]
  },
  {
   "cell_type": "code",
   "execution_count": 32,
   "id": "43aca4a4-0c6c-4569-b56c-5f9b7159f8f0",
   "metadata": {},
   "outputs": [],
   "source": [
    "\n",
    "##Use .get() with a default return value if key is not found."
   ]
  },
  {
   "cell_type": "code",
   "execution_count": 33,
   "id": "bbf89f87-2682-4764-b558-c5ab6c1efa8a",
   "metadata": {},
   "outputs": [],
   "source": [
    "##retail_inventory.get('Smart Watch','Apple')"
   ]
  },
  {
   "cell_type": "code",
   "execution_count": 34,
   "id": "85889fa7-178a-401a-b465-2d724c75bfb0",
   "metadata": {},
   "outputs": [],
   "source": [
    "new_dict=(retail_inventory.get('Electronics','Android'))\n",
    "new_dict1=(retail_inventory.get('Vehicals','not found'))"
   ]
  },
  {
   "cell_type": "code",
   "execution_count": 35,
   "id": "1aac2c00-41a0-42d2-aa6c-91cf1a64be43",
   "metadata": {},
   "outputs": [
    {
     "data": {
      "text/plain": [
       "{'Laptop': [55000, 30, 'Dell'],\n",
       " 'Mobile': [25000, 50, 'Samsung'],\n",
       " 'Tablet': [18000, 20, 'Lenovo'],\n",
       " 'Smart Watch': [7999, 40, 'Noise']}"
      ]
     },
     "execution_count": 35,
     "metadata": {},
     "output_type": "execute_result"
    }
   ],
   "source": [
    "new_dict"
   ]
  },
  {
   "cell_type": "code",
   "execution_count": 36,
   "id": "deab6a0f-65b9-42e6-bba2-166fcac73fae",
   "metadata": {},
   "outputs": [
    {
     "data": {
      "text/plain": [
       "'not found'"
      ]
     },
     "execution_count": 36,
     "metadata": {},
     "output_type": "execute_result"
    }
   ],
   "source": [
    "new_dict1\n"
   ]
  },
  {
   "cell_type": "code",
   "execution_count": 39,
   "id": "d9cd819a-cf31-41e5-a4bf-e411f046ab4d",
   "metadata": {},
   "outputs": [],
   "source": [
    "##What’s the difference between .pop() and .popitem()? Try both.pop"
   ]
  },
  {
   "cell_type": "code",
   "execution_count": 41,
   "id": "e33d33cb-1483-46b1-b960-70374d6954b9",
   "metadata": {},
   "outputs": [
    {
     "data": {
      "text/plain": [
       "{'Microwave': [8500, 15, 'LG'],\n",
       " 'Vacuum Cleaner': [7000, 10, 'Philips'],\n",
       " 'Refrigerator': [30000, 8, 'Samsung']}"
      ]
     },
     "execution_count": 41,
     "metadata": {},
     "output_type": "execute_result"
    }
   ],
   "source": [
    "retail_inventory.pop(\"Home Appliances\")"
   ]
  },
  {
   "cell_type": "code",
   "execution_count": 42,
   "id": "cf04dcc1-94ce-4eb6-a368-b32c07b36723",
   "metadata": {},
   "outputs": [
    {
     "data": {
      "text/plain": [
       "{'Electronics': {'Laptop': [55000, 30, 'Dell'],\n",
       "  'Mobile': [25000, 50, 'Samsung'],\n",
       "  'Tablet': [18000, 20, 'Lenovo'],\n",
       "  'Smart Watch': [7999, 40, 'Noise']},\n",
       " 'Apparel': {'T-Shirt': [499, 100, 'H&M'],\n",
       "  'Jeans': [1199, 60, \"Levi's\"],\n",
       "  'Jacket': [2499, 25, 'Puma']},\n",
       " 'Mobile': 'Android ',\n",
       " 'beauty products': 'powder',\n",
       " 'healthcare': 'cosmetics',\n",
       " 'sports': 'cricket'}"
      ]
     },
     "execution_count": 42,
     "metadata": {},
     "output_type": "execute_result"
    }
   ],
   "source": [
    "retail_inventory"
   ]
  },
  {
   "cell_type": "code",
   "execution_count": 43,
   "id": "b8afdc83-a600-4e05-91c1-9a313df6c0aa",
   "metadata": {},
   "outputs": [
    {
     "data": {
      "text/plain": [
       "{'Electronics': {'Laptop': [55000, 30, 'Dell'],\n",
       "  'Mobile': [25000, 50, 'Samsung'],\n",
       "  'Tablet': [18000, 20, 'Lenovo'],\n",
       "  'Smart Watch': [7999, 40, 'Noise']},\n",
       " 'Apparel': {'T-Shirt': [499, 100, 'H&M'],\n",
       "  'Jeans': [1199, 60, \"Levi's\"],\n",
       "  'Jacket': [2499, 25, 'Puma']},\n",
       " 'Mobile': 'Android ',\n",
       " 'beauty products': 'powder',\n",
       " 'healthcare': 'cosmetics',\n",
       " 'sports': 'cricket'}"
      ]
     },
     "execution_count": 43,
     "metadata": {},
     "output_type": "execute_result"
    }
   ],
   "source": [
    "retail_inventory"
   ]
  },
  {
   "cell_type": "code",
   "execution_count": 44,
   "id": "a336b34e-6e3f-4e0a-81f8-583e5f87711f",
   "metadata": {},
   "outputs": [
    {
     "data": {
      "text/plain": [
       "('sports', 'cricket')"
      ]
     },
     "execution_count": 44,
     "metadata": {},
     "output_type": "execute_result"
    }
   ],
   "source": [
    "retail_inventory.popitem()"
   ]
  },
  {
   "cell_type": "code",
   "execution_count": 45,
   "id": "5a2423c0-f423-4667-90f9-bd5f6cb1753f",
   "metadata": {},
   "outputs": [
    {
     "data": {
      "text/plain": [
       "{'Electronics': {'Laptop': [55000, 30, 'Dell'],\n",
       "  'Mobile': [25000, 50, 'Samsung'],\n",
       "  'Tablet': [18000, 20, 'Lenovo'],\n",
       "  'Smart Watch': [7999, 40, 'Noise']},\n",
       " 'Apparel': {'T-Shirt': [499, 100, 'H&M'],\n",
       "  'Jeans': [1199, 60, \"Levi's\"],\n",
       "  'Jacket': [2499, 25, 'Puma']},\n",
       " 'Mobile': 'Android ',\n",
       " 'beauty products': 'powder',\n",
       " 'healthcare': 'cosmetics'}"
      ]
     },
     "execution_count": 45,
     "metadata": {},
     "output_type": "execute_result"
    }
   ],
   "source": [
    "retail_inventory"
   ]
  },
  {
   "cell_type": "code",
   "execution_count": null,
   "id": "5cb174ae-db40-40af-8747-9836a6279f5f",
   "metadata": {},
   "outputs": [],
   "source": [
    "Use del to remove a key from a dictionary"
   ]
  },
  {
   "cell_type": "code",
   "execution_count": 49,
   "id": "1fd863d7-5987-46d8-8ca2-c112ddbdfa70",
   "metadata": {},
   "outputs": [],
   "source": [
    "del retail_inventory[\"Electronics\"]"
   ]
  },
  {
   "cell_type": "code",
   "execution_count": 50,
   "id": "d92dee66-0ee7-4ffc-97b9-49dbaf79e1cf",
   "metadata": {},
   "outputs": [
    {
     "data": {
      "text/plain": [
       "{'Apparel': {'T-Shirt': [499, 100, 'H&M'],\n",
       "  'Jeans': [1199, 60, \"Levi's\"],\n",
       "  'Jacket': [2499, 25, 'Puma']},\n",
       " 'Mobile': 'Android ',\n",
       " 'beauty products': 'powder',\n",
       " 'healthcare': 'cosmetics'}"
      ]
     },
     "execution_count": 50,
     "metadata": {},
     "output_type": "execute_result"
    }
   ],
   "source": [
    "retail_inventory"
   ]
  },
  {
   "cell_type": "code",
   "execution_count": 57,
   "id": "17975215-8e09-4557-8e43-08b18e3a41fa",
   "metadata": {},
   "outputs": [],
   "source": [
    "##Get the number of keys in a dictionary"
   ]
  },
  {
   "cell_type": "code",
   "execution_count": 58,
   "id": "d312782e-5d6b-4bcf-9e85-91f7f24c2123",
   "metadata": {},
   "outputs": [
    {
     "data": {
      "text/plain": [
       "4"
      ]
     },
     "execution_count": 58,
     "metadata": {},
     "output_type": "execute_result"
    }
   ],
   "source": [
    "len(retail_inventory)"
   ]
  },
  {
   "cell_type": "code",
   "execution_count": null,
   "id": "a66ba734-6468-4ac5-8d44-b5651dee67a8",
   "metadata": {},
   "outputs": [],
   "source": []
  },
  {
   "cell_type": "code",
   "execution_count": null,
   "id": "7b1f216f-b44c-4804-bedd-1c03c0a7d976",
   "metadata": {},
   "outputs": [],
   "source": []
  },
  {
   "cell_type": "code",
   "execution_count": null,
   "id": "95a5736c-173f-4384-9113-35ed793c1d17",
   "metadata": {},
   "outputs": [],
   "source": []
  },
  {
   "cell_type": "code",
   "execution_count": null,
   "id": "35c40749-27dc-4af6-9395-05f2cd167b27",
   "metadata": {},
   "outputs": [],
   "source": []
  }
 ],
 "metadata": {
  "kernelspec": {
   "display_name": "Python 3 (ipykernel)",
   "language": "python",
   "name": "python3"
  },
  "language_info": {
   "codemirror_mode": {
    "name": "ipython",
    "version": 3
   },
   "file_extension": ".py",
   "mimetype": "text/x-python",
   "name": "python",
   "nbconvert_exporter": "python",
   "pygments_lexer": "ipython3",
   "version": "3.13.2"
  }
 },
 "nbformat": 4,
 "nbformat_minor": 5
}
